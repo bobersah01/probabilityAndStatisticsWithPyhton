{
 "cells": [
  {
   "cell_type": "code",
   "execution_count": 10,
   "id": "f823b4ca",
   "metadata": {
    "pycharm": {
     "name": "#%%\n"
    }
   },
   "outputs": [
    {
     "name": "stdout",
     "output_type": "stream",
     "text": [
      "[3, 3, 1, 1, 3, 2, 2, 3, 4, 4, 5, 5, 3, 1, 5, 5, 1, 6, 2, 5, 5, 6, 3, 5, 5, 4, 4, 4, 4, 2, 1, 4, 3, 2, 6, 1, 2, 4, 1, 3, 3, 1, 1, 3, 3, 4, 3, 3, 6, 1, 4, 1, 1, 2, 4, 5, 5, 5, 6, 3, 1, 2, 2, 2, 6, 2, 4, 5, 2, 5, 6, 4, 4, 2, 1, 4, 1, 6, 3, 1, 6, 4, 6, 3, 4, 5, 5, 4, 6, 6, 1, 6, 5, 3, 2, 4, 4, 1, 3, 5]\n"
     ]
    }
   ],
   "source": [
    "import pandas              #Reading data files with python.\n",
    "import openpyxl\n",
    "from random import seed    #Creating seed() function to generate random numbers same sequence interval.\n",
    "from random import randint #Wea re using random module for generating random numbers with randint() function.\n",
    "\n",
    "randomNumberList = list() #Creating a die list which contains numbers between 1-6.\n",
    "#sortedNumberList = list()\n",
    "\n",
    "\"\"\"def generatingSortedNumber(howManyTimes):\n",
    "    for index in range (1,howManyTimes + 1):\n",
    "        sortedNumberList.append(index)\n",
    "\"\"\"        \n",
    "def generatingRandomNumber(howManyTimes):\n",
    "    index = 1\n",
    "    while(True):\n",
    "        if (index  == howManyTimes +1):\n",
    "            break\n",
    "        randomNumberList.append(randint(1,6))\n",
    "        index += 1\n",
    "\n",
    "generatingRandomNumber(100)\n",
    "print(randomNumberList)\n"
   ]
  },
  {
   "cell_type": "code",
   "execution_count": 11,
   "id": "c7a79351",
   "metadata": {
    "scrolled": true,
    "pycharm": {
     "name": "#%%\n"
    }
   },
   "outputs": [
    {
     "name": "stdout",
     "output_type": "stream",
     "text": [
      "1.  data: 3\n",
      "2.  data: 3\n",
      "3.  data: 1\n",
      "4.  data: 1\n",
      "5.  data: 3\n",
      "6.  data: 2\n",
      "7.  data: 2\n",
      "8.  data: 3\n",
      "9.  data: 4\n",
      "10.  data: 4\n",
      "11.  data: 5\n",
      "12.  data: 5\n",
      "13.  data: 3\n",
      "14.  data: 1\n",
      "15.  data: 5\n",
      "16.  data: 5\n",
      "17.  data: 1\n",
      "18.  data: 6\n",
      "19.  data: 2\n",
      "20.  data: 5\n",
      "21.  data: 5\n",
      "22.  data: 6\n",
      "23.  data: 3\n",
      "24.  data: 5\n",
      "25.  data: 5\n",
      "26.  data: 4\n",
      "27.  data: 4\n",
      "28.  data: 4\n",
      "29.  data: 4\n",
      "30.  data: 2\n",
      "31.  data: 1\n",
      "32.  data: 4\n",
      "33.  data: 3\n",
      "34.  data: 2\n",
      "35.  data: 6\n",
      "36.  data: 1\n",
      "37.  data: 2\n",
      "38.  data: 4\n",
      "39.  data: 1\n",
      "40.  data: 3\n",
      "41.  data: 3\n",
      "42.  data: 1\n",
      "43.  data: 1\n",
      "44.  data: 3\n",
      "45.  data: 3\n",
      "46.  data: 4\n",
      "47.  data: 3\n",
      "48.  data: 3\n",
      "49.  data: 6\n",
      "50.  data: 1\n",
      "51.  data: 4\n",
      "52.  data: 1\n",
      "53.  data: 1\n",
      "54.  data: 2\n",
      "55.  data: 4\n",
      "56.  data: 5\n",
      "57.  data: 5\n",
      "58.  data: 5\n",
      "59.  data: 6\n",
      "60.  data: 3\n",
      "61.  data: 1\n",
      "62.  data: 2\n",
      "63.  data: 2\n",
      "64.  data: 2\n",
      "65.  data: 6\n",
      "66.  data: 2\n",
      "67.  data: 4\n",
      "68.  data: 5\n",
      "69.  data: 2\n",
      "70.  data: 5\n",
      "71.  data: 6\n",
      "72.  data: 4\n",
      "73.  data: 4\n",
      "74.  data: 2\n",
      "75.  data: 1\n",
      "76.  data: 4\n",
      "77.  data: 1\n",
      "78.  data: 6\n",
      "79.  data: 3\n",
      "80.  data: 1\n",
      "81.  data: 6\n",
      "82.  data: 4\n",
      "83.  data: 6\n",
      "84.  data: 3\n",
      "85.  data: 4\n",
      "86.  data: 5\n",
      "87.  data: 5\n",
      "88.  data: 4\n",
      "89.  data: 6\n",
      "90.  data: 6\n",
      "91.  data: 1\n",
      "92.  data: 6\n",
      "93.  data: 5\n",
      "94.  data: 3\n",
      "95.  data: 2\n",
      "96.  data: 4\n",
      "97.  data: 4\n",
      "98.  data: 1\n",
      "99.  data: 3\n",
      "100.  data: 5\n"
     ]
    }
   ],
   "source": [
    "for index, randomNumber in enumerate(randomNumberList, 1):\n",
    "    print(\"{}.  data: {}\".format(index, randomNumber))"
   ]
  },
  {
   "cell_type": "code",
   "execution_count": 28,
   "id": "565bcc6c",
   "metadata": {
    "pycharm": {
     "name": "#%%\n"
    }
   },
   "outputs": [
    {
     "name": "stdout",
     "output_type": "stream",
     "text": [
      "Number of 1's: 18. Possibility of 1: 0.18\n",
      "Number of 2's: 14. Possibility of 2: 0.14\n",
      "Number of 3's: 18. Possibility of 3: 0.18\n",
      "Number of 4's: 20. Possibility of 4: 0.2\n",
      "Number of 5's: 17. Possibility of 5: 0.17\n",
      "Number of 6's: 13. Possibility of 6: 0.13\n"
     ]
    }
   ],
   "source": [
    "for index in range(1,7):\n",
    "    print(\"Number of {}'s: {}. Possibility of {}: {}\".format(index, randomNumberList.count(index), index ,randomNumberList.count(index)/100 ))"
   ]
  },
  {
   "cell_type": "code",
   "execution_count": 17,
   "id": "75078267",
   "metadata": {
    "pycharm": {
     "name": "#%%\n"
    }
   },
   "outputs": [
    {
     "name": "stdout",
     "output_type": "stream",
     "text": [
      "[3, 3, 1, 1, 3, 2, 2, 3, 4, 4, 5, 5, 3, 1, 5, 5, 1, 6, 2, 5, 5, 6, 3, 5, 5, 4, 4, 4, 4, 2, 1, 4, 3, 2, 6, 1, 2, 4, 1, 3, 3, 1, 1, 3, 3, 4, 3, 3, 6, 1]\n",
      "[4, 1, 1, 2, 4, 5, 5, 5, 6, 3, 1, 2, 2, 2, 6, 2, 4, 5, 2, 5, 6, 4, 4, 2, 1, 4, 1, 6, 3, 1, 6, 4, 6, 3, 4, 5, 5, 4, 6, 6, 1, 6, 5, 3, 2, 4, 4, 1, 3, 5]\n"
     ]
    }
   ],
   "source": [
    "first = list()\n",
    "second = list()\n",
    "for element in range(0,100):\n",
    "    if (element >= 50):\n",
    "        second.append(randomNumberList[element])\n",
    "    else:\n",
    "        first.append(randomNumberList[element])\n",
    "\n",
    "print(first)\n",
    "print(second)"
   ]
  },
  {
   "cell_type": "code",
   "execution_count": 18,
   "id": "2303dfac",
   "metadata": {
    "pycharm": {
     "name": "#%%\n"
    }
   },
   "outputs": [
    {
     "name": "stdout",
     "output_type": "stream",
     "text": [
      "50\n",
      "50\n"
     ]
    }
   ],
   "source": [
    "print(len(first))\n",
    "print(len(second))"
   ]
  },
  {
   "cell_type": "code",
   "execution_count": 20,
   "id": "40c145bf",
   "metadata": {
    "pycharm": {
     "name": "#%%\n"
    }
   },
   "outputs": [
    {
     "name": "stdout",
     "output_type": "stream",
     "text": [
      "First 50 data: \n",
      "Number of 1's: 10\n",
      "Number of 2's: 6\n",
      "Number of 3's: 13\n",
      "Number of 4's: 9\n",
      "Number of 5's: 8\n",
      "Number of 6's: 4\n",
      "------------------\n",
      "Last 50 data: \n",
      "Number of 1's: 8\n",
      "Number of 2's: 8\n",
      "Number of 3's: 5\n",
      "Number of 4's: 11\n",
      "Number of 5's: 9\n",
      "Number of 6's: 9\n"
     ]
    }
   ],
   "source": [
    "print(\"First 50 data: \")\n",
    "for element in range(1,7):\n",
    "    print(\"Number of {}'s: {} Possibility of {}: {}\".format(element, first.count(element)))\n",
    "print(\"------------------\")\n",
    "print(\"Last 50 data: \")\n",
    "for element in range(1,7):\n",
    "    print(\"Number of {}'s: {} Possibility of {}: {}\".format(element, second.count(element)))"
   ]
  },
  {
   "cell_type": "code",
   "execution_count": 21,
   "id": "e2c06dc0",
   "metadata": {
    "pycharm": {
     "name": "#%%\n"
    }
   },
   "outputs": [
    {
     "name": "stdout",
     "output_type": "stream",
     "text": [
      "25\n",
      "25\n"
     ]
    }
   ],
   "source": [
    "third = list()\n",
    "fourth = list()\n",
    "for element in range(0,50):\n",
    "    if (element >= 25):\n",
    "        fourth.append(first[element])\n",
    "    else:\n",
    "        third.append(first[element])\n",
    "\n",
    "print(len(third))\n",
    "print(len(fourth))"
   ]
  },
  {
   "cell_type": "code",
   "execution_count": 25,
   "id": "5aa82f48",
   "metadata": {
    "pycharm": {
     "name": "#%%\n"
    }
   },
   "outputs": [
    {
     "name": "stdout",
     "output_type": "stream",
     "text": [
      "First 25 data: \n",
      "Number of 1's: 4\n",
      "Number of 2's: 3\n",
      "Number of 3's: 6\n",
      "Number of 4's: 2\n",
      "Number of 5's: 8\n",
      "Number of 6's: 2\n",
      "------------------\n",
      "Second 25 data: \n",
      "Number of 1's: 6\n",
      "Number of 2's: 3\n",
      "Number of 3's: 7\n",
      "Number of 4's: 7\n",
      "Number of 5's: 0\n",
      "Number of 6's: 2\n"
     ]
    }
   ],
   "source": [
    "print(\"First 25 data: \")\n",
    "for element in range(1,7):\n",
    "    print(\"Number of {}'s: {}\".format(element, third.count(element)))\n",
    "print(\"------------------\")\n",
    "print(\"Second 25 data: \")\n",
    "for element in range(1,7):\n",
    "    print(\"Number of {}'s: {}\".format(element, fourth.count(element)))"
   ]
  },
  {
   "cell_type": "code",
   "execution_count": 26,
   "id": "6e887147",
   "metadata": {
    "pycharm": {
     "name": "#%%\n"
    }
   },
   "outputs": [
    {
     "name": "stdout",
     "output_type": "stream",
     "text": [
      "25\n",
      "25\n"
     ]
    }
   ],
   "source": [
    "fifth = list()\n",
    "sixth = list()\n",
    "for element in range(0,50):\n",
    "    if (element >= 25):\n",
    "        sixth.append(second[element])\n",
    "    else:\n",
    "        fifth.append(second[element])\n",
    "\n",
    "print(len(fifth))\n",
    "print(len(sixth))"
   ]
  },
  {
   "cell_type": "code",
   "execution_count": 27,
   "id": "2a7952e8",
   "metadata": {
    "scrolled": true,
    "pycharm": {
     "name": "#%%\n"
    }
   },
   "outputs": [
    {
     "name": "stdout",
     "output_type": "stream",
     "text": [
      "Third 25 data: \n",
      "Number of 1's: 4\n",
      "Number of 2's: 7\n",
      "Number of 3's: 1\n",
      "Number of 4's: 5\n",
      "Number of 5's: 5\n",
      "Number of 6's: 3\n",
      "------------------\n",
      "Last 25 data: \n",
      "Number of 1's: 4\n",
      "Number of 2's: 1\n",
      "Number of 3's: 4\n",
      "Number of 4's: 6\n",
      "Number of 5's: 4\n",
      "Number of 6's: 6\n"
     ]
    }
   ],
   "source": [
    "print(\"Third 25 data: \")\n",
    "for element in range(1,7):\n",
    "    print(\"Number of {}'s: {}\".format(element, fifth.count(element)))\n",
    "print(\"------------------\")\n",
    "print(\"Last 25 data: \")\n",
    "for element in range(1,7):\n",
    "    print(\"Number of {}'s: {}\".format(element, sixth.count(element)))"
   ]
  },
  {
   "cell_type": "code",
   "execution_count": null,
   "id": "c54ecb0a",
   "metadata": {
    "pycharm": {
     "name": "#%%\n"
    }
   },
   "outputs": [],
   "source": []
  }
 ],
 "metadata": {
  "kernelspec": {
   "display_name": "Python 3 (ipykernel)",
   "language": "python",
   "name": "python3"
  },
  "language_info": {
   "codemirror_mode": {
    "name": "ipython",
    "version": 3
   },
   "file_extension": ".py",
   "mimetype": "text/x-python",
   "name": "python",
   "nbconvert_exporter": "python",
   "pygments_lexer": "ipython3",
   "version": "3.9.7"
  }
 },
 "nbformat": 4,
 "nbformat_minor": 5
}