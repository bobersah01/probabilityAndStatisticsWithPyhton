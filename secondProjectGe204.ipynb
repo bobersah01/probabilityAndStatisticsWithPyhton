{
 "cells": [
  {
   "cell_type": "code",
   "execution_count": 3,
   "id": "724bce6e",
   "metadata": {},
   "outputs": [
    {
     "data": {
      "image/png": "[encoded data removed]",
      "text/plain": [
       "<Figure size 432x288 with 1 Axes>"
      ]
     },
     "metadata": {
      "needs_background": "light"
     },
     "output_type": "display_data"
    },
    {
     "data": {
      "image/png": "[encoded data removed]",
      "text/plain": [
       "<Figure size 432x288 with 1 Axes>"
      ]
     },
     "metadata": {
      "needs_background": "light"
     },
     "output_type": "display_data"
    }
   ],
   "source": [
    "#First, we import the library to be able to draw the graph.\n",
    "import matplotlib.pyplot as plt\n",
    "\n",
    "#Since we created the Probability Mass Function (PMS) table for women and men separately, \n",
    "#we will graph both separately. First we enter the women's data, then the men's data.\n",
    "#We enter the height and probability mass function data for women one by one. \n",
    "\n",
    "\"\"\"\n",
    "Since the graph is narrow, the numbers appear to be mixed. I created characters to describe each age range.\n",
    "< 58 = a\n",
    "58-59 = b\n",
    "59-60 = c\n",
    "60-61 = d\n",
    "61-62 = e\n",
    "62-63 = f\n",
    "63-64 = g\n",
    "64-65 = h\n",
    "65-66 = i\n",
    "66-67 = j\n",
    "67-68 = k\n",
    "68-69 = l\n",
    "69-70 = m\n",
    "> 70 = n\n",
    "\n",
    "\"\"\"\n",
    "\n",
    "wHeight = ['a', 'b', 'c', 'd', 'e', 'f', 'g', 'h', 'i', 'j', 'k', 'l', 'm', 'n']\n",
    "wProbability = [0.0422, 0.0674, 0.0750, 0.0769, 0.0792, 0.0820, 0.0818, 0.0843, 0.0861, 0.0879, 0.0873, 0.0817, 0.0702, 0.0599]\n",
    "\n",
    "#We enter the height and probability mass function data for men one by one.\n",
    "mBoy = ['a', 'b', 'c', 'd', 'e', 'f', 'g', 'h', 'i', 'j', 'k', 'l', 'm', 'n']\n",
    "mProbability = [0.0158, 0.0269, 0.0296, 0.0324, 0.0350, 0.0379, 0.0403, 0.0424, 0.0444, 0.0458, 0.0457, 0.0457, 0.0447, 0.0420]\n",
    "\n",
    "#We are creating a bar chart based on women's data.\n",
    "plt.bar(wHeight, wProbability)\n",
    "plt.xlabel('Height (inch)')\n",
    "plt.ylabel('Probability Mass Function Data')\n",
    "plt.title('Graph Showing Probability Mass Function Table of Women')\n",
    "plt.show()\n",
    "\n",
    "#We are creating a bar chart based on man data.\n",
    "plt.bar(mBoy, mProbability)\n",
    "plt.xlabel('Height (inch)')\n",
    "plt.ylabel('Probability Mass Function Data')\n",
    "plt.title('Graph Showing Probability Mass Function Table of Man')\n",
    "plt.show()"
   ]
  },
  {
   "cell_type": "code",
   "execution_count": 6,
   "id": "4462f4d2",
   "metadata": {},
   "outputs": [
    {
     "name": "stdout",
     "output_type": "stream",
     "text": [
      "Probability Mass Function Table Based on Women's Data: \n",
      "   Height (inch)  Probability Mass Function (PMS)\n",
      "0           < 58                           0.0422\n",
      "1          58-59                           0.0674\n",
      "2          59-60                           0.0750\n",
      "3          60-61                           0.0769\n",
      "4          61-62                           0.0792\n",
      "5          62-63                           0.0820\n",
      "6          63-64                           0.0818\n",
      "7          64-65                           0.0843\n",
      "8          65-66                           0.0861\n",
      "9          66-67                           0.0879\n",
      "10         67-68                           0.0873\n",
      "11         68-69                           0.0817\n",
      "12         69-70                           0.0702\n",
      "13          > 70                           0.0599\n",
      "\n",
      "Probability Mass Function Table Based on Man Data: \n",
      "   Height (inch)  Probability Mass Function (PMS)\n",
      "0           < 58                           0.0158\n",
      "1          58-59                           0.0269\n",
      "2          59-60                           0.0296\n",
      "3          60-61                           0.0324\n",
      "4          61-62                           0.0350\n",
      "5          62-63                           0.0379\n",
      "6          63-64                           0.0403\n",
      "7          64-65                           0.0424\n",
      "8          65-66                           0.0444\n",
      "9          66-67                           0.0458\n",
      "10         67-68                           0.0457\n",
      "11         68-69                           0.0457\n",
      "12         69-70                           0.0447\n",
      "13          > 70                           0.0420\n"
     ]
    }
   ],
   "source": [
    "import pandas as pd\n",
    "\n",
    "# Kadınlar için olasılık kütle fonksiyonu tablosu\n",
    "womenTable = pd.DataFrame({\n",
    "    'Height (inch)': ['< 58', '58-59', '59-60', '60-61', '61-62', '62-63', '63-64', '64-65', '65-66', '66-67', '67-68', '68-69', '69-70', '> 70'],\n",
    "    'Probability Mass Function (PMS)': [0.0422, 0.0674, 0.0750, 0.0769, 0.0792, 0.0820, 0.0818, 0.0843, 0.0861, 0.0879, 0.0873, 0.0817, 0.0702, 0.0599]\n",
    "})\n",
    "\n",
    "# Erkekler için olasılık kütle fonksiyonu tablosu\n",
    "manTable = pd.DataFrame({\n",
    "    'Height (inch)': ['< 58', '58-59', '59-60', '60-61', '61-62', '62-63', '63-64', '64-65', '65-66', '66-67', '67-68', '68-69', '69-70', '> 70'],\n",
    "    'Probability Mass Function (PMS)': [0.0158, 0.0269, 0.0296, 0.0324, 0.0350, 0.0379, 0.0403, 0.0424, 0.0444, 0.0458, 0.0457, 0.0457, 0.0447, 0.0420]\n",
    "})\n",
    "\n",
    "print(\"Probability Mass Function Table Based on Women's Data: \")\n",
    "print(womenTable)\n",
    "\n",
    "print(\"\\nProbability Mass Function Table Based on Man Data: \")\n",
    "print(manTable)\n"
   ]
  },
  {
   "cell_type": "code",
   "execution_count": 9,
   "id": "2b79c9ca",
   "metadata": {},
   "outputs": [
    {
     "name": "stdout",
     "output_type": "stream",
     "text": [
      "Variance of X:  0.031761086\n",
      "Expected value of X:  0.17771799999999996\n"
     ]
    }
   ],
   "source": [
    "heightDistPercent = [4.3, 3.3, 4.6, 6.4, 11.7, 10.9, 13.1, 15.7, 11.2, 10.4, 2.1, 2.9, 2.9, 0.1, 0.4]\n",
    "heightBetween = [(162, 165), (165, 167), (167, 170), (170, 172), (172, 175), (175, 177), (177, 180), (180, 182), (182, 185), (185, 187), (187, 190), (190, 193), (193, 195), (195, 198)]\n",
    "\n",
    "varianceX = 0\n",
    "expectedValue = 0\n",
    "\n",
    "for i in range(len(heightBetween)):\n",
    "    h_min = heightBetween[i][0]\n",
    "    h_max = heightBetween[i][1]\n",
    "    h_middle = (h_min + h_max) / 2\n",
    "    newBoyPercent = heightDistPercent[i]\n",
    "    \n",
    "    varianceX += ((h_middle / 1000) ** 2) * (newBoyPercent / 100)\n",
    "    expectedValue += (h_middle / 1000) * (newBoyPercent / 100)\n",
    "\n",
    "print(\"Variance of X: \", varianceX)\n",
    "print(\"Expected value of X: \", expectedValue)\n"
   ]
  },
  {
   "cell_type": "code",
   "execution_count": null,
   "id": "c1096640",
   "metadata": {},
   "outputs": [],
   "source": []
  }
 ],
 "metadata": {
  "kernelspec": {
   "display_name": "Python 3 (ipykernel)",
   "language": "python",
   "name": "python3"
  },
  "language_info": {
   "codemirror_mode": {
    "name": "ipython",
    "version": 3
   },
   "file_extension": ".py",
   "mimetype": "text/x-python",
   "name": "python",
   "nbconvert_exporter": "python",
   "pygments_lexer": "ipython3",
   "version": "3.9.7"
  }
 },
 "nbformat": 4,
 "nbformat_minor": 5
}
