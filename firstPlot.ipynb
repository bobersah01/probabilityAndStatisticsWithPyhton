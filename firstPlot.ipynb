{
 "cells": [
  {
   "cell_type": "code",
   "execution_count": 35,
   "id": "687758b8",
   "metadata": {},
   "outputs": [
    {
     "data": {
      "image/png": "[encoded data removed]",
      "text/plain": [
       "<Figure size 432x288 with 1 Axes>"
      ]
     },
     "metadata": {
      "needs_background": "light"
     },
     "output_type": "display_data"
    }
   ],
   "source": [
    "import matplotlib.pyplot as plt\n",
    "\n",
    "probabilities = [0.18, 0.14, 0.18, 0.2, 0.17, 0.13] #probabilities that we obtained from first 100 rolls.\n",
    "numbers = ['1', '2', '3', '4', '5', '6'] #numbers in a die.\n",
    "\n",
    "fig, ax = plt.subplots()\n",
    "\n",
    "# plot the probabilities as a bar chart\n",
    "ax.bar(numbers, probabilities, color='orange')\n",
    "\n",
    "# set the labels and title\n",
    "ax.set_xlabel('Number')\n",
    "ax.set_ylabel('Probability')\n",
    "ax.set_title('Probabilities of Each Number')\n",
    "\n",
    "plt.show()\n"
   ]
  },
  {
   "cell_type": "code",
   "execution_count": 36,
   "id": "eeaad931",
   "metadata": {},
   "outputs": [
    {
     "name": "stdout",
     "output_type": "stream",
     "text": [
      "Number of 1's: 15. Possibility of 1: 0.15\n",
      "Number of 2's: 15. Possibility of 2: 0.15\n",
      "Number of 3's: 17. Possibility of 3: 0.17\n",
      "Number of 4's: 16. Possibility of 4: 0.16\n",
      "Number of 5's: 19. Possibility of 5: 0.19\n",
      "Number of 6's: 18. Possibility of 6: 0.18\n"
     ]
    }
   ],
   "source": [
    "secondHundredLoops = [2, 5, 4, 5, 5,1, 1, 4, 4, 4,6, 3, 3, 2, 4,6, 2, 4, 2, 2,6, 5, 4, 5, 2,3, 1, 1, 3, 2,2, 2, 4, 6, 5,5, 6, 6, 6, 6,5, 4, 1, 6, 2,3, 4, 6, 1, 5,3, 6, 6, 5, 4,1, 6, 3, 1, 3,5, 3, 6, 6, 5,1, 3, 4, 2, 2,5, 5, 5, 5, 6,2, 4, 3, 1, 2,3, 1, 5, 1, 4,1, 3, 4, 3, 3,2, 6, 5, 1, 3,1, 3, 4, 6, 5]\n",
    "for index in range(1,7):\n",
    "    print(\"Number of {}'s: {}. Possibility of {}: {}\".format(index, secondHundredLoops.count(index), index ,secondHundredLoops.count(index)/100 ))"
   ]
  },
  {
   "cell_type": "code",
   "execution_count": null,
   "id": "d1ab93f0",
   "metadata": {},
   "outputs": [],
   "source": []
  },
  {
   "cell_type": "code",
   "execution_count": null,
   "id": "bb332581",
   "metadata": {},
   "outputs": [],
   "source": []
  }
 ],
 "metadata": {
  "kernelspec": {
   "display_name": "Python 3 (ipykernel)",
   "language": "python",
   "name": "python3"
  },
  "language_info": {
   "codemirror_mode": {
    "name": "ipython",
    "version": 3
   },
   "file_extension": ".py",
   "mimetype": "text/x-python",
   "name": "python",
   "nbconvert_exporter": "python",
   "pygments_lexer": "ipython3",
   "version": "3.9.7"
  }
 },
 "nbformat": 4,
 "nbformat_minor": 5
}
