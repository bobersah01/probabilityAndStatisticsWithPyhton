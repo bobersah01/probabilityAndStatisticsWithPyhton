{
 "cells": [
  {
   "cell_type": "code",
   "execution_count": 1,
   "id": "7d415b90",
   "metadata": {},
   "outputs": [
    {
     "ename": "SyntaxError",
     "evalue": "invalid syntax (Temp/ipykernel_20448/174062266.py, line 1)",
     "output_type": "error",
     "traceback": [
      "\u001b[1;36m  File \u001b[1;32m\"C:\\Users\\MER~1\\AppData\\Local\\Temp/ipykernel_20448/174062266.py\"\u001b[1;36m, line \u001b[1;32m1\u001b[0m\n\u001b[1;33m    25 |\u001b[0m\n\u001b[1;37m         ^\u001b[0m\n\u001b[1;31mSyntaxError\u001b[0m\u001b[1;31m:\u001b[0m invalid syntax\n"
     ]
    }
   ],
   "source": [
    "    25 | \n",
    "    24 | \n",
    "    23 | \n",
    "    22 | \n",
    "    21 | \n",
    "    20 | \n",
    "    19 | \n",
    "    18 | * \n",
    "    17 | \n",
    "    16 | \n",
    "    15 | \n",
    "    14 | \n",
    "    13 | \n",
    "    12 | \n",
    "    11 | \n",
    "    10 | \n",
    "     9 | \n",
    "     8 | \n",
    "     7 | \n",
    "     6 | \n",
    "     5 | \n",
    "     4 | \n",
    "     3 | \n",
    "     2 | \n",
    "     1 | \n",
    "        -+-------------------------\n",
    "         1  2  3  4  5  6  7  8  9 \n"
   ]
  },
  {
   "cell_type": "code",
   "execution_count": 2,
   "id": "43f81f3f",
   "metadata": {},
   "outputs": [
    {
     "data": {
      "image/png": "[encoded data removed]",
      "text/plain": [
       "<Figure size 432x288 with 1 Axes>"
      ]
     },
     "metadata": {
      "needs_background": "light"
     },
     "output_type": "display_data"
    }
   ],
   "source": [
    "import matplotlib.pyplot as plt\n",
    "\n",
    "# Data\n",
    "ones = 18\n",
    "twos = 14\n",
    "threes = 18\n",
    "fours = 20\n",
    "fives = 17\n",
    "sixes = 13\n",
    "\n",
    "# Create a list of values and frequencies\n",
    "values = [1, 2, 3, 4, 5, 6]\n",
    "frequencies = [ones, twos, threes, fours, fives, sixes]\n",
    "\n",
    "# Create a histogram\n",
    "plt.bar(values, frequencies)\n",
    "\n",
    "# Set the title and axis labels\n",
    "plt.title(\"Histogram of 100 rolls\")\n",
    "plt.xlabel(\"Value\")\n",
    "plt.ylabel(\"Frequency\")\n",
    "\n",
    "# Show the plot\n",
    "plt.show()\n"
   ]
  },
  {
   "cell_type": "code",
   "execution_count": 3,
   "id": "1eeb4f2c",
   "metadata": {},
   "outputs": [
    {
     "data": {
      "image/png": "[encoded data removed]",
      "text/plain": [
       "<Figure size 432x288 with 1 Axes>"
      ]
     },
     "metadata": {
      "needs_background": "light"
     },
     "output_type": "display_data"
    }
   ],
   "source": [
    "import matplotlib.pyplot as plt\n",
    "\n",
    "# Average numbers from the 20 sets of five randomly generated numbers\n",
    "average_numbers = [4.2, 2.8, 3.6, 3.2, 4.4, 2.0, 3.8, 5.8, 3.6, 3.8, 4.8, 2.8, 5.0, 2.4, 5.2, 2.4, 2.8, 2.8, 3.4, 3.8]\n",
    "\n",
    "# Create a histogram of the average numbers\n",
    "plt.hist(average_numbers)\n",
    "\n",
    "# Add labels and title\n",
    "plt.xlabel('Average numbers')\n",
    "plt.ylabel('Frequency')\n",
    "plt.title('Histogram of average numbers from 20 sets of five randomly generated numbers')\n",
    "\n",
    "# Show the histogram\n",
    "plt.show()\n"
   ]
  },
  {
   "cell_type": "code",
   "execution_count": null,
   "id": "5e6b23c3",
   "metadata": {},
   "outputs": [],
   "source": []
  }
 ],
 "metadata": {
  "kernelspec": {
   "display_name": "Python 3 (ipykernel)",
   "language": "python",
   "name": "python3"
  },
  "language_info": {
   "codemirror_mode": {
    "name": "ipython",
    "version": 3
   },
   "file_extension": ".py",
   "mimetype": "text/x-python",
   "name": "python",
   "nbconvert_exporter": "python",
   "pygments_lexer": "ipython3",
   "version": "3.9.7"
  }
 },
 "nbformat": 4,
 "nbformat_minor": 5
}
