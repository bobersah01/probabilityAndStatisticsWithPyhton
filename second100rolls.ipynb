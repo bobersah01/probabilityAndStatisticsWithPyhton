{
 "cells": [
  {
   "cell_type": "code",
   "execution_count": 1,
   "id": "8af259b3",
   "metadata": {},
   "outputs": [
    {
     "name": "stdout",
     "output_type": "stream",
     "text": [
      "Random numbers generated: [2, 5, 4, 5, 5]\n",
      "Average of the five: 4.2\n",
      "\n",
      "Random numbers generated: [1, 1, 4, 4, 4]\n",
      "Average of the five: 2.8\n",
      "\n",
      "Random numbers generated: [6, 3, 3, 2, 4]\n",
      "Average of the five: 3.6\n",
      "\n",
      "Random numbers generated: [6, 2, 4, 2, 2]\n",
      "Average of the five: 3.2\n",
      "\n",
      "Random numbers generated: [6, 5, 4, 5, 2]\n",
      "Average of the five: 4.4\n",
      "\n",
      "Random numbers generated: [3, 1, 1, 3, 2]\n",
      "Average of the five: 2.0\n",
      "\n",
      "Random numbers generated: [2, 2, 4, 6, 5]\n",
      "Average of the five: 3.8\n",
      "\n",
      "Random numbers generated: [5, 6, 6, 6, 6]\n",
      "Average of the five: 5.8\n",
      "\n",
      "Random numbers generated: [5, 4, 1, 6, 2]\n",
      "Average of the five: 3.6\n",
      "\n",
      "Random numbers generated: [3, 4, 6, 1, 5]\n",
      "Average of the five: 3.8\n",
      "\n",
      "Random numbers generated: [3, 6, 6, 5, 4]\n",
      "Average of the five: 4.8\n",
      "\n",
      "Random numbers generated: [1, 6, 3, 1, 3]\n",
      "Average of the five: 2.8\n",
      "\n",
      "Random numbers generated: [5, 3, 6, 6, 5]\n",
      "Average of the five: 5.0\n",
      "\n",
      "Random numbers generated: [1, 3, 4, 2, 2]\n",
      "Average of the five: 2.4\n",
      "\n",
      "Random numbers generated: [5, 5, 5, 5, 6]\n",
      "Average of the five: 5.2\n",
      "\n",
      "Random numbers generated: [2, 4, 3, 1, 2]\n",
      "Average of the five: 2.4\n",
      "\n",
      "Random numbers generated: [3, 1, 5, 1, 4]\n",
      "Average of the five: 2.8\n",
      "\n",
      "Random numbers generated: [1, 3, 4, 3, 3]\n",
      "Average of the five: 2.8\n",
      "\n",
      "Random numbers generated: [2, 6, 5, 1, 3]\n",
      "Average of the five: 3.4\n",
      "\n",
      "Random numbers generated: [1, 3, 4, 6, 5]\n",
      "Average of the five: 3.8\n",
      "\n"
     ]
    }
   ],
   "source": [
    "from random import randint\n",
    "\n",
    "for i in range(20):\n",
    "    randomNumberList = []\n",
    "\n",
    "    for element in range(5):\n",
    "        value = randint(1, 6)\n",
    "        randomNumberList.append(value)\n",
    "\n",
    "    print(\"Random numbers generated:\", randomNumberList)\n",
    "\n",
    "    total = sum(randomNumberList)\n",
    "    average = total / len(randomNumberList)\n",
    "\n",
    "    print(\"Average of the five:\", average)\n",
    "    print()\n"
   ]
  },
  {
   "cell_type": "code",
   "execution_count": null,
   "id": "0fe6fd0d",
   "metadata": {},
   "outputs": [],
   "source": [
    "secondHundredLoops = [2, 5, 4, 5, 5,1, 1, 4, 4, 4,6, 3, 3, 2, 4,6, 2, 4, 2, 2,6, 5, 4, 5, 2,3, 1, 1, 3, 2,2, 2, 4, 6, 5,5, 6, 6, 6, 6,5, 4, 1, 6, 2,3, 4, 6, 1, 5,3, 6, 6, 5, 4,1, 6, 3, 1, 3,5, 3, 6, 6, 5,1, 3, 4, 2, 2,5, 5, 5, 5, 6,2, 4, 3, 1, 2,3, 1, 5, 1, 4,1, 3, 4, 3, 3,2, 6, 5, 1, 3,1, 3, 4, 6, 5]\n",
    "for index in range(1,7):\n",
    "    print(\"Number of {}'s: {}. Possibility of {}: {}\".format(index, secondHundredLoops.count(index), index ,secondHundredLoops.count(index)/100 ))"
   ]
  }
 ],
 "metadata": {
  "kernelspec": {
   "display_name": "Python 3 (ipykernel)",
   "language": "python",
   "name": "python3"
  },
  "language_info": {
   "codemirror_mode": {
    "name": "ipython",
    "version": 3
   },
   "file_extension": ".py",
   "mimetype": "text/x-python",
   "name": "python",
   "nbconvert_exporter": "python",
   "pygments_lexer": "ipython3",
   "version": "3.9.7"
  }
 },
 "nbformat": 4,
 "nbformat_minor": 5
}
